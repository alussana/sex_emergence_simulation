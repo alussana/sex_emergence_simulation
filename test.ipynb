{
 "cells": [
  {
   "cell_type": "code",
   "execution_count": 12,
   "metadata": {},
   "outputs": [],
   "source": [
    "from random import random\n",
    "from numpy.random import normal\n",
    "from random import shuffle\n",
    "from sim import *"
   ]
  },
  {
   "cell_type": "code",
   "execution_count": 13,
   "metadata": {},
   "outputs": [],
   "source": [
    "CARRYING_CAPACITY = 10 # 10000\n",
    "START_N_GENOMES = 2 # 1000\n",
    "N_GENES = 6 #10000\n",
    "PLOIDY = 2\n",
    "MUTATION_RATE = 0.0 # 5 / N_GENES\n",
    "CROSSING_OVER = True\n",
    "CROSSINGOVER_LENGTH_MEAN = 2 # 50\n",
    "CROSSINGOVER_LENGTH_SD = 0 # 5\n",
    "START_FRAC_SEX_GENOMES = 1 # 0.1\n",
    "N_GENERATIONS = 100"
   ]
  },
  {
   "cell_type": "code",
   "execution_count": 14,
   "metadata": {},
   "outputs": [],
   "source": [
    "h_mean = CROSSINGOVER_LENGTH_MEAN\n",
    "h_sd = CROSSINGOVER_LENGTH_SD"
   ]
  },
  {
   "cell_type": "code",
   "execution_count": 15,
   "metadata": {},
   "outputs": [],
   "source": [
    "sim = Simulation(\n",
    "    c=CARRYING_CAPACITY,\n",
    "    n=N_GENES,\n",
    "    p=PLOIDY,\n",
    "    s=START_N_GENOMES,\n",
    "    h_mean=CROSSINGOVER_LENGTH_MEAN,\n",
    "    h_sd=CROSSINGOVER_LENGTH_SD,\n",
    "    x=START_FRAC_SEX_GENOMES,\n",
    "    g=N_GENERATIONS,\n",
    "    m=MUTATION_RATE\n",
    ")\n",
    "self = sim"
   ]
  },
  {
   "cell_type": "code",
   "execution_count": 16,
   "metadata": {},
   "outputs": [
    {
     "name": "stdout",
     "output_type": "stream",
     "text": [
      "[[True, True, True, True, False, True], [True, True, False, True, True, False]]\n",
      "[[True, False, False, False, False, True], [True, True, False, True, False, False]]\n"
     ]
    }
   ],
   "source": [
    "for i in range(len(sim.population)):\n",
    "    print(sim.population[i].genes)"
   ]
  },
  {
   "cell_type": "markdown",
   "metadata": {},
   "source": [
    "## Test propagate() in both sexual and asexual instances\n",
    "\n",
    "asexual --> verified OK\n",
    "\n",
    "sexual --> debugging in progress"
   ]
  },
  {
   "cell_type": "code",
   "execution_count": 17,
   "metadata": {},
   "outputs": [],
   "source": [
    "for i in range(sim.start_n_genomes):\n",
    "    if random() < sim.start_sex_frac:\n",
    "        sim.population[i].meiosis = True"
   ]
  },
  {
   "cell_type": "code",
   "execution_count": 18,
   "metadata": {},
   "outputs": [
    {
     "name": "stdout",
     "output_type": "stream",
     "text": [
      "True\n",
      "True\n"
     ]
    }
   ],
   "source": [
    "for genome in sim.population:\n",
    "    print(genome.meiosis)"
   ]
  },
  {
   "cell_type": "markdown",
   "metadata": {},
   "source": [
    "---"
   ]
  },
  {
   "cell_type": "code",
   "execution_count": 19,
   "metadata": {},
   "outputs": [],
   "source": [
    "sim.propagate()"
   ]
  },
  {
   "cell_type": "code",
   "execution_count": 20,
   "metadata": {},
   "outputs": [
    {
     "name": "stdout",
     "output_type": "stream",
     "text": [
      "[[True, True, False, False, False, False], [True, True, False, True, False, True]]\n",
      "[[True, False, False, True, False, True], [True, True, True, True, True, False]]\n",
      "[[True, True, False, False, False, False], [True, True, True, True, True, False]]\n",
      "[[True, False, False, True, False, True], [True, True, False, True, False, True]]\n"
     ]
    }
   ],
   "source": [
    "for genome in sim.population:\n",
    "    print(genome.genes)"
   ]
  },
  {
   "cell_type": "markdown",
   "metadata": {},
   "source": [
    "---"
   ]
  },
  {
   "cell_type": "code",
   "execution_count": 21,
   "metadata": {},
   "outputs": [
    {
     "data": {
      "text/plain": [
       "[0, 1, 2, 3]"
      ]
     },
     "execution_count": 21,
     "metadata": {},
     "output_type": "execute_result"
    }
   ],
   "source": [
    "genomes_indexes = [i for i in range(len(self.population))]\n",
    "genomes_indexes"
   ]
  },
  {
   "cell_type": "code",
   "execution_count": 22,
   "metadata": {},
   "outputs": [
    {
     "data": {
      "text/plain": [
       "[-0.9588559430535527,\n",
       " -1.3376413453248048,\n",
       " -1.2064780038054717,\n",
       " -1.090019284572886]"
      ]
     },
     "execution_count": 22,
     "metadata": {},
     "output_type": "execute_result"
    }
   ],
   "source": [
    "fitness_list = [self.compute_fitness(self.population[i]) for i in genomes_indexes]\n",
    "fitness_list"
   ]
  },
  {
   "cell_type": "code",
   "execution_count": null,
   "metadata": {},
   "outputs": [],
   "source": [
    "propagation_list = [x for _, x in sorted(zip(fitness_list, genomes_indexes), reverse=True)]\n",
    "propagation_list"
   ]
  }
 ],
 "metadata": {
  "interpreter": {
   "hash": "f0210e761cedf0284dba26e7c1120df0c2fff86ec80306828223a760cb71dfcb"
  },
  "kernelspec": {
   "display_name": "Python 3.9.7 64-bit ('sex_emergence': conda)",
   "language": "python",
   "name": "python3"
  },
  "language_info": {
   "codemirror_mode": {
    "name": "ipython",
    "version": 3
   },
   "file_extension": ".py",
   "mimetype": "text/x-python",
   "name": "python",
   "nbconvert_exporter": "python",
   "pygments_lexer": "ipython3",
   "version": "3.9.7"
  },
  "orig_nbformat": 4
 },
 "nbformat": 4,
 "nbformat_minor": 2
}
