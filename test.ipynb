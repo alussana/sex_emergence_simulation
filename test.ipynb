{
 "cells": [
  {
   "cell_type": "code",
   "execution_count": 273,
   "metadata": {},
   "outputs": [],
   "source": [
    "from random import random\n",
    "from numpy.random import normal\n",
    "from random import shuffle\n",
    "from sim import *"
   ]
  },
  {
   "cell_type": "code",
   "execution_count": 274,
   "metadata": {},
   "outputs": [],
   "source": [
    "CARRYING_CAPACITY = 10000\n",
    "START_N_GENOMES = 1000\n",
    "N_GENES = 5 #10000\n",
    "PLOIDY = 2\n",
    "MUTATION_RATE = 5 / N_GENES\n",
    "CROSSING_OVER = True\n",
    "CROSSINGOVER_LENGTH_MEAN = 2 # 50\n",
    "CROSSINGOVER_LENGTH_SD = 0 # 5\n",
    "START_FRAC_SEX_GENOMES = 0.1\n",
    "N_GENERATIONS = 1000"
   ]
  },
  {
   "cell_type": "code",
   "execution_count": 275,
   "metadata": {},
   "outputs": [],
   "source": [
    "h_mean = CROSSINGOVER_LENGTH_MEAN\n",
    "h_sd = CROSSINGOVER_LENGTH_SD"
   ]
  },
  {
   "cell_type": "code",
   "execution_count": 276,
   "metadata": {},
   "outputs": [],
   "source": [
    "g = Genome(n=N_GENES, p=PLOIDY)"
   ]
  },
  {
   "cell_type": "code",
   "execution_count": 277,
   "metadata": {},
   "outputs": [
    {
     "name": "stdout",
     "output_type": "stream",
     "text": [
      "[[False, True, True, False, True], [True, False, False, True, True]]\n"
     ]
    }
   ],
   "source": [
    "g_genes = [[False, True, True, False, True], [True, False, False, True, True]]\n",
    "g.genes = g_genes\n",
    "print(g.genes)"
   ]
  },
  {
   "cell_type": "code",
   "execution_count": 278,
   "metadata": {},
   "outputs": [
    {
     "name": "stdout",
     "output_type": "stream",
     "text": [
      "[[True, False, True, False, True], [True, False, False, True, True]]\n"
     ]
    }
   ],
   "source": [
    "g.meiosis = True\n",
    "g.generate_gametes(h_mean=h_mean, h_sd=h_sd)\n",
    "print(g.genes)\n",
    "## TODO problem, running generate_gametes() changes the .genes !"
   ]
  },
  {
   "cell_type": "code",
   "execution_count": 279,
   "metadata": {},
   "outputs": [
    {
     "name": "stdout",
     "output_type": "stream",
     "text": [
      "True False\n",
      "False True\n",
      "True False\n",
      "False True\n"
     ]
    }
   ],
   "source": [
    "for genome in g.gametes:\n",
    "    print(g.genes[0] == genome, g.genes[1] == genome)"
   ]
  },
  {
   "cell_type": "code",
   "execution_count": 280,
   "metadata": {},
   "outputs": [
    {
     "name": "stdout",
     "output_type": "stream",
     "text": [
      "True True      True True True True\n",
      "False False      False False False False\n",
      "True False      True False True False\n",
      "False True      False True False True\n",
      "True True      True True True True\n"
     ]
    }
   ],
   "source": [
    "for i in range(len(g.genes[0])):\n",
    "    print(g.genes[0][i], g.genes[1][i], '    ', g.gametes[0][i], g.gametes[1][i], g.gametes[2][i], g.gametes[3][i])"
   ]
  },
  {
   "cell_type": "code",
   "execution_count": 281,
   "metadata": {},
   "outputs": [
    {
     "name": "stdout",
     "output_type": "stream",
     "text": [
      "true: 3\n",
      "false: 2\n",
      "phase a == True: 3\n",
      "False\n"
     ]
    }
   ],
   "source": [
    "trues = 0\n",
    "falses = 0\n",
    "phase_a_true = 0\n",
    "for i in range(len(g.genes[0])):\n",
    "    if g.genes[0][i] == g.genes[1][i]:\n",
    "        trues += 1\n",
    "    else:\n",
    "        falses += 1\n",
    "    if g.genes[0][i]:\n",
    "        phase_a_true += 1\n",
    "print(f'true: {trues}')\n",
    "print(f'false: {falses}')\n",
    "print(f'phase a == True: {phase_a_true}')\n",
    "\n",
    "print(g.genes[0] == g.genes[1])"
   ]
  },
  {
   "cell_type": "code",
   "execution_count": 282,
   "metadata": {},
   "outputs": [
    {
     "name": "stdout",
     "output_type": "stream",
     "text": [
      "[2, 4]\n"
     ]
    }
   ],
   "source": [
    "crossingover_points = g.generate_crossingover_points(h_mean=CROSSINGOVER_LENGTH_MEAN, h_sd=CROSSINGOVER_LENGTH_SD)\n",
    "print(crossingover_points)"
   ]
  },
  {
   "cell_type": "code",
   "execution_count": 283,
   "metadata": {},
   "outputs": [],
   "source": [
    "h_mean = CROSSINGOVER_LENGTH_MEAN\n",
    "h_sd = CROSSINGOVER_LENGTH_SD\n",
    "crossingover_points_a = g.generate_crossingover_points(h_mean = h_mean, h_sd = h_sd)\n",
    "crossingover_points_b = g.generate_crossingover_points(h_mean = h_mean, h_sd = h_sd)"
   ]
  },
  {
   "cell_type": "code",
   "execution_count": 284,
   "metadata": {},
   "outputs": [],
   "source": [
    "new_genome_a = g.perform_crossingover(crossingover_points_a)\n",
    "new_genome_b = g.perform_crossingover(crossingover_points_b)"
   ]
  },
  {
   "cell_type": "code",
   "execution_count": 285,
   "metadata": {},
   "outputs": [
    {
     "name": "stdout",
     "output_type": "stream",
     "text": [
      "True\n"
     ]
    }
   ],
   "source": [
    "print(new_genome_a[0] == g.genes[0])"
   ]
  },
  {
   "cell_type": "code",
   "execution_count": 286,
   "metadata": {},
   "outputs": [
    {
     "name": "stdout",
     "output_type": "stream",
     "text": [
      "[(0, 2), (2, 4), (4, 5)]\n"
     ]
    }
   ],
   "source": [
    "new_genes = g.genes\n",
    "crossingover_points.insert(0, 0)\n",
    "crossingover_points.insert(len(crossingover_points), g.n_genes)\n",
    "crossing_over_segments = list(zip(crossingover_points[:len(crossingover_points)], crossingover_points[1:]))\n",
    "print(crossing_over_segments)"
   ]
  },
  {
   "cell_type": "code",
   "execution_count": 287,
   "metadata": {},
   "outputs": [
    {
     "name": "stdout",
     "output_type": "stream",
     "text": [
      "True\n",
      "True\n"
     ]
    }
   ],
   "source": [
    "for s in range(len(crossing_over_segments)):\n",
    "    if s % 2 == 0:\n",
    "        start = crossing_over_segments[s][0]\n",
    "        end = crossing_over_segments[s][1]\n",
    "        print(new_genes[0][start:end] == g.genes[1][start:end])\n",
    "        new_genes[0][start:end] = g.genes[1][start:end]\n",
    "        new_genes[1][start:end] = g.genes[0][start:end]"
   ]
  },
  {
   "cell_type": "code",
   "execution_count": 288,
   "metadata": {},
   "outputs": [],
   "source": [
    "g.generate_gametes(h_mean=CROSSINGOVER_LENGTH_MEAN, h_sd=CROSSINGOVER_LENGTH_SD)"
   ]
  }
 ],
 "metadata": {
  "interpreter": {
   "hash": "f0210e761cedf0284dba26e7c1120df0c2fff86ec80306828223a760cb71dfcb"
  },
  "kernelspec": {
   "display_name": "Python 3.9.7 64-bit ('sex_emergence': conda)",
   "language": "python",
   "name": "python3"
  },
  "language_info": {
   "codemirror_mode": {
    "name": "ipython",
    "version": 3
   },
   "file_extension": ".py",
   "mimetype": "text/x-python",
   "name": "python",
   "nbconvert_exporter": "python",
   "pygments_lexer": "ipython3",
   "version": "3.9.7"
  },
  "orig_nbformat": 4
 },
 "nbformat": 4,
 "nbformat_minor": 2
}
