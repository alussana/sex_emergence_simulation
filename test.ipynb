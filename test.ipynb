{
 "cells": [
  {
   "cell_type": "code",
   "execution_count": 1,
   "metadata": {},
   "outputs": [],
   "source": [
    "from random import random\n",
    "from numpy.random import normal\n",
    "from random import shuffle\n",
    "from sim import *"
   ]
  },
  {
   "cell_type": "code",
   "execution_count": 2,
   "metadata": {},
   "outputs": [],
   "source": [
    "CARRYING_CAPACITY = 2 ** 13\n",
    "START_N_GENOMES = 2 ** 9\n",
    "N_GENES = 2 ** 9\n",
    "PLOIDY = 2\n",
    "MUTATION_RATE = 2 ** 2 / N_GENES\n",
    "CROSSING_OVER = True\n",
    "CROSSINGOVER_LENGTH_MEAN = 2 ** 7\n",
    "CROSSINGOVER_LENGTH_SD = 2 ** 2\n",
    "START_FRAC_SEX_GENOMES = 0.05 # 0.1\n",
    "N_GENERATIONS = 2 ** 7"
   ]
  },
  {
   "cell_type": "code",
   "execution_count": 9,
   "metadata": {},
   "outputs": [],
   "source": [
    "CARRYING_CAPACITY = 2000\n",
    "START_N_GENOMES = 100\n",
    "N_GENES = 100\n",
    "PLOIDY = 2\n",
    "MUTATION_RATE = 5 / N_GENES\n",
    "CROSSING_OVER = True\n",
    "CROSSINGOVER_LENGTH_MEAN = 10\n",
    "CROSSINGOVER_LENGTH_SD = 1\n",
    "START_FRAC_SEX_GENOMES = 0.1\n",
    "N_GENERATIONS = 20"
   ]
  },
  {
   "cell_type": "markdown",
   "metadata": {},
   "source": [
    "# Run simulation\n",
    "\n",
    "---"
   ]
  },
  {
   "cell_type": "code",
   "execution_count": 10,
   "metadata": {},
   "outputs": [],
   "source": [
    "sim = Simulation(\n",
    "    c=CARRYING_CAPACITY,\n",
    "    n=N_GENES,\n",
    "    p=PLOIDY,\n",
    "    s=START_N_GENOMES,\n",
    "    h_mean=CROSSINGOVER_LENGTH_MEAN,\n",
    "    h_sd=CROSSINGOVER_LENGTH_SD,\n",
    "    x=START_FRAC_SEX_GENOMES,\n",
    "    g=N_GENERATIONS,\n",
    "    m=MUTATION_RATE\n",
    ")\n",
    "sim.start()"
   ]
  },
  {
   "cell_type": "code",
   "execution_count": 11,
   "metadata": {},
   "outputs": [
    {
     "data": {
      "text/plain": [
       "[14,\n",
       " 28,\n",
       " 36,\n",
       " 28,\n",
       " 32,\n",
       " 60,\n",
       " 120,\n",
       " 232,\n",
       " 288,\n",
       " 576,\n",
       " 652,\n",
       " 1000,\n",
       " 1000,\n",
       " 1000,\n",
       " 1000,\n",
       " 1000,\n",
       " 1000,\n",
       " 1000,\n",
       " 1000,\n",
       " 1000,\n",
       " 1000]"
      ]
     },
     "execution_count": 11,
     "metadata": {},
     "output_type": "execute_result"
    }
   ],
   "source": [
    "sim.history['n_sex_allele']"
   ]
  },
  {
   "cell_type": "code",
   "execution_count": 13,
   "metadata": {},
   "outputs": [
    {
     "data": {
      "text/plain": [
       "[100,\n",
       " 372,\n",
       " 1000,\n",
       " 1000,\n",
       " 1000,\n",
       " 1000,\n",
       " 1000,\n",
       " 1000,\n",
       " 1000,\n",
       " 1000,\n",
       " 1000,\n",
       " 1000,\n",
       " 1000,\n",
       " 1000,\n",
       " 1000,\n",
       " 1000,\n",
       " 1000,\n",
       " 1000,\n",
       " 1000,\n",
       " 1000,\n",
       " 1000]"
      ]
     },
     "execution_count": 13,
     "metadata": {},
     "output_type": "execute_result"
    }
   ],
   "source": [
    "sim.history['n_individuals']"
   ]
  },
  {
   "cell_type": "markdown",
   "metadata": {},
   "source": [
    "---"
   ]
  },
  {
   "cell_type": "markdown",
   "metadata": {},
   "source": [
    "## Plot"
   ]
  },
  {
   "cell_type": "code",
   "execution_count": 30,
   "metadata": {},
   "outputs": [],
   "source": [
    "import matplotlib.pyplot as plt"
   ]
  },
  {
   "cell_type": "code",
   "execution_count": 31,
   "metadata": {},
   "outputs": [],
   "source": [
    "n_sex_allele = sim.history['n_sex_allele']\n",
    "n_individuals = sim.history['n_individuals']"
   ]
  },
  {
   "cell_type": "code",
   "execution_count": 32,
   "metadata": {},
   "outputs": [
    {
     "data": {
      "image/png": "[encoded data removed]",
      "text/plain": [
       "<Figure size 432x288 with 1 Axes>"
      ]
     },
     "metadata": {
      "needs_background": "light"
     },
     "output_type": "display_data"
    }
   ],
   "source": [
    "plt.bar([i for i in range(len(n_individuals))], n_individuals, label='mitosis')\n",
    "plt.bar([i for i in range(len(n_individuals))], n_sex_allele, label='meiosis')\n",
    "plt.xlabel('Generation')\n",
    "plt.ylabel('Individuals')\n",
    "plt.legend()\n",
    "plt.gca().spines['right'].set_color('none')\n",
    "plt.gca().spines['top'].set_color('none')\n",
    "plt.savefig('counts.png', dpi=200)"
   ]
  },
  {
   "cell_type": "markdown",
   "metadata": {},
   "source": [
    "---"
   ]
  },
  {
   "cell_type": "code",
   "execution_count": null,
   "metadata": {},
   "outputs": [],
   "source": [
    "h_mean = CROSSINGOVER_LENGTH_MEAN\n",
    "h_sd = CROSSINGOVER_LENGTH_SD"
   ]
  },
  {
   "cell_type": "code",
   "execution_count": null,
   "metadata": {},
   "outputs": [],
   "source": [
    "sim = Simulation(\n",
    "    c=CARRYING_CAPACITY,\n",
    "    n=N_GENES,\n",
    "    p=PLOIDY,\n",
    "    s=START_N_GENOMES,\n",
    "    h_mean=CROSSINGOVER_LENGTH_MEAN,\n",
    "    h_sd=CROSSINGOVER_LENGTH_SD,\n",
    "    x=START_FRAC_SEX_GENOMES,\n",
    "    g=N_GENERATIONS,\n",
    "    m=MUTATION_RATE\n",
    ")\n",
    "self = sim"
   ]
  },
  {
   "cell_type": "code",
   "execution_count": null,
   "metadata": {},
   "outputs": [],
   "source": [
    "for i in range(len(sim.population)):\n",
    "    print(sim.population[i].genes)"
   ]
  },
  {
   "cell_type": "markdown",
   "metadata": {},
   "source": [
    "## Test propagate() in both sexual and asexual instances\n",
    "\n",
    "asexual --> verified OK\n",
    "\n",
    "sexual --> verified OK "
   ]
  },
  {
   "cell_type": "code",
   "execution_count": null,
   "metadata": {},
   "outputs": [],
   "source": [
    "for i in range(sim.start_n_genomes):\n",
    "    if random() < sim.start_sex_frac:\n",
    "        sim.population[i].meiosis = True"
   ]
  },
  {
   "cell_type": "code",
   "execution_count": null,
   "metadata": {},
   "outputs": [],
   "source": [
    "for genome in sim.population:\n",
    "    print(genome.meiosis)"
   ]
  },
  {
   "cell_type": "markdown",
   "metadata": {},
   "source": [
    "---"
   ]
  },
  {
   "cell_type": "code",
   "execution_count": null,
   "metadata": {},
   "outputs": [],
   "source": [
    "sim.propagate()"
   ]
  },
  {
   "cell_type": "code",
   "execution_count": null,
   "metadata": {},
   "outputs": [],
   "source": [
    "for genome in sim.population:\n",
    "    print(genome.genes)"
   ]
  },
  {
   "cell_type": "markdown",
   "metadata": {},
   "source": [
    "---"
   ]
  },
  {
   "cell_type": "code",
   "execution_count": null,
   "metadata": {},
   "outputs": [],
   "source": [
    "genomes_indexes = [i for i in range(len(self.population))]\n",
    "genomes_indexes"
   ]
  },
  {
   "cell_type": "code",
   "execution_count": null,
   "metadata": {},
   "outputs": [],
   "source": [
    "fitness_list = [self.compute_fitness(self.population[i]) for i in genomes_indexes]\n",
    "fitness_list"
   ]
  },
  {
   "cell_type": "code",
   "execution_count": null,
   "metadata": {},
   "outputs": [],
   "source": [
    "propagation_list = [x for _, x in sorted(zip(fitness_list, genomes_indexes), reverse=True)]\n",
    "propagation_list"
   ]
  }
 ],
 "metadata": {
  "interpreter": {
   "hash": "f0210e761cedf0284dba26e7c1120df0c2fff86ec80306828223a760cb71dfcb"
  },
  "kernelspec": {
   "display_name": "Python 3.9.7 64-bit ('sex_emergence': conda)",
   "language": "python",
   "name": "python3"
  },
  "language_info": {
   "codemirror_mode": {
    "name": "ipython",
    "version": 3
   },
   "file_extension": ".py",
   "mimetype": "text/x-python",
   "name": "python",
   "nbconvert_exporter": "python",
   "pygments_lexer": "ipython3",
   "version": "3.9.7"
  },
  "orig_nbformat": 4
 },
 "nbformat": 4,
 "nbformat_minor": 2
}
