{
 "cells": [
  {
   "cell_type": "code",
   "execution_count": null,
   "metadata": {},
   "outputs": [],
   "source": [
    "from random import random\n",
    "from numpy.random import normal\n",
    "from random import shuffle\n",
    "from sim import *"
   ]
  },
  {
   "cell_type": "code",
   "execution_count": null,
   "metadata": {},
   "outputs": [],
   "source": [
    "CARRYING_CAPACITY = 10 # 10000\n",
    "START_N_GENOMES = 10 # 1000\n",
    "N_GENES = 4 #10000\n",
    "PLOIDY = 2\n",
    "MUTATION_RATE = 0.3 # 5 / N_GENES\n",
    "CROSSING_OVER = True\n",
    "CROSSINGOVER_LENGTH_MEAN = 1 # 50\n",
    "CROSSINGOVER_LENGTH_SD = 0 # 5\n",
    "START_FRAC_SEX_GENOMES = 0.3 # 0.1\n",
    "N_GENERATIONS = 1000"
   ]
  },
  {
   "cell_type": "code",
   "execution_count": null,
   "metadata": {},
   "outputs": [],
   "source": [
    "h_mean = CROSSINGOVER_LENGTH_MEAN\n",
    "h_sd = CROSSINGOVER_LENGTH_SD"
   ]
  },
  {
   "cell_type": "code",
   "execution_count": null,
   "metadata": {},
   "outputs": [],
   "source": [
    "sim = Simulation(\n",
    "    c=CARRYING_CAPACITY,\n",
    "    n=N_GENES,\n",
    "    p=PLOIDY,\n",
    "    s=START_N_GENOMES,\n",
    "    h_mean=CROSSINGOVER_LENGTH_MEAN,\n",
    "    h_sd=CROSSINGOVER_LENGTH_SD,\n",
    "    x=START_FRAC_SEX_GENOMES,\n",
    "    g=N_GENERATIONS,\n",
    "    m=MUTATION_RATE\n",
    ")"
   ]
  },
  {
   "cell_type": "code",
   "execution_count": null,
   "metadata": {},
   "outputs": [],
   "source": [
    "for i in range(len(sim.population)):\n",
    "    print(sim.population[i].genes)"
   ]
  },
  {
   "cell_type": "code",
   "execution_count": null,
   "metadata": {},
   "outputs": [],
   "source": [
    "g = Genome(n=N_GENES, p=PLOIDY)"
   ]
  },
  {
   "cell_type": "code",
   "execution_count": null,
   "metadata": {},
   "outputs": [],
   "source": [
    "print(g.genes)\n",
    "g.mutate(mutation_rate=MUTATION_RATE)\n",
    "print(g.genes)"
   ]
  },
  {
   "cell_type": "code",
   "execution_count": null,
   "metadata": {},
   "outputs": [],
   "source": [
    "sim.propagate()"
   ]
  },
  {
   "cell_type": "code",
   "execution_count": null,
   "metadata": {},
   "outputs": [],
   "source": [
    "for i in range(len(sim.population)):\n",
    "    print(sim.population[i].genes)"
   ]
  },
  {
   "cell_type": "code",
   "execution_count": null,
   "metadata": {},
   "outputs": [],
   "source": [
    "sim.population"
   ]
  }
 ],
 "metadata": {
  "interpreter": {
   "hash": "f0210e761cedf0284dba26e7c1120df0c2fff86ec80306828223a760cb71dfcb"
  },
  "kernelspec": {
   "display_name": "Python 3.9.7 64-bit ('sex_emergence': conda)",
   "language": "python",
   "name": "python3"
  },
  "language_info": {
   "codemirror_mode": {
    "name": "ipython",
    "version": 3
   },
   "file_extension": ".py",
   "mimetype": "text/x-python",
   "name": "python",
   "nbconvert_exporter": "python",
   "pygments_lexer": "ipython3",
   "version": "3.9.7"
  },
  "orig_nbformat": 4
 },
 "nbformat": 4,
 "nbformat_minor": 2
}
